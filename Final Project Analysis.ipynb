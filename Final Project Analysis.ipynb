{
 "cells": [
  {
   "cell_type": "code",
   "execution_count": 46,
   "id": "98fc4f58",
   "metadata": {},
   "outputs": [],
   "source": [
    "import numpy as np\n",
    "import matplotlib.pyplot as plt\n",
    "import pandas as pd\n",
    "\n",
    "df = pd.read_csv('https://docs.google.com/spreadsheets/d/e/2PACX-1vTv081TwMkwVLEMqAmqkEL0xQL6HHt_3ZB5uSF0oBYEbol39djeCg3Qb2u125ajj5UTzymD6qD1MnRF/pub?output=csv')"
   ]
  },
  {
   "cell_type": "code",
   "execution_count": 47,
   "id": "66b9a4fa",
   "metadata": {},
   "outputs": [
    {
     "name": "stdout",
     "output_type": "stream",
     "text": [
      "          brand brand_short     product product_short     hex     H     S  \\\n",
      "0    Maybelline          mb      Fit Me           fmf  f3cfb3  26.0  0.26   \n",
      "1    Maybelline          mb      Fit Me           fmf  ffe3c2  32.0  0.24   \n",
      "2    Maybelline          mb      Fit Me           fmf  ffe0cd  23.0  0.20   \n",
      "3    Maybelline          mb      Fit Me           fmf  ffd3be  19.0  0.25   \n",
      "4    Maybelline          mb      Fit Me           fmf  bd9584  18.0  0.30   \n",
      "..          ...         ...         ...           ...     ...   ...   ...   \n",
      "620     L'Oréal          lo  True Match           tms  eecfba  24.0  0.22   \n",
      "621     L'Oréal          lo  True Match           tms  e8c7b8  19.0  0.21   \n",
      "622     L'Oréal          lo  True Match           tms  f0cbb9  20.0  0.23   \n",
      "623     L'Oréal          lo  True Match           tms  e9c4b1  20.0  0.24   \n",
      "624     L'Oréal          lo  True Match           tms  eabea1  24.0  0.31   \n",
      "\n",
      "        V   L  group  \n",
      "0    0.95  86      2  \n",
      "1    1.00  92      2  \n",
      "2    1.00  91      2  \n",
      "3    1.00  88      2  \n",
      "4    0.74  65      2  \n",
      "..    ...  ..    ...  \n",
      "620  0.93  85      7  \n",
      "621  0.91  83      7  \n",
      "622  0.94  85      7  \n",
      "623  0.91  82      7  \n",
      "624  0.92  80      7  \n",
      "\n",
      "[625 rows x 10 columns]\n"
     ]
    }
   ],
   "source": [
    "print(df)"
   ]
  },
  {
   "cell_type": "code",
   "execution_count": 48,
   "id": "e8504ba2",
   "metadata": {},
   "outputs": [
    {
     "data": {
      "text/html": [
       "<div>\n",
       "<style scoped>\n",
       "    .dataframe tbody tr th:only-of-type {\n",
       "        vertical-align: middle;\n",
       "    }\n",
       "\n",
       "    .dataframe tbody tr th {\n",
       "        vertical-align: top;\n",
       "    }\n",
       "\n",
       "    .dataframe thead th {\n",
       "        text-align: right;\n",
       "    }\n",
       "</style>\n",
       "<table border=\"1\" class=\"dataframe\">\n",
       "  <thead>\n",
       "    <tr style=\"text-align: right;\">\n",
       "      <th></th>\n",
       "      <th>H</th>\n",
       "      <th>S</th>\n",
       "      <th>V</th>\n",
       "      <th>L</th>\n",
       "      <th>group</th>\n",
       "    </tr>\n",
       "  </thead>\n",
       "  <tbody>\n",
       "    <tr>\n",
       "      <th>count</th>\n",
       "      <td>613.000000</td>\n",
       "      <td>613.000000</td>\n",
       "      <td>613.000000</td>\n",
       "      <td>625.000000</td>\n",
       "      <td>625.000000</td>\n",
       "    </tr>\n",
       "    <tr>\n",
       "      <th>mean</th>\n",
       "      <td>25.314845</td>\n",
       "      <td>0.459494</td>\n",
       "      <td>0.779543</td>\n",
       "      <td>65.920000</td>\n",
       "      <td>3.472000</td>\n",
       "    </tr>\n",
       "    <tr>\n",
       "      <th>std</th>\n",
       "      <td>5.327852</td>\n",
       "      <td>0.154089</td>\n",
       "      <td>0.173955</td>\n",
       "      <td>17.512267</td>\n",
       "      <td>1.976529</td>\n",
       "    </tr>\n",
       "    <tr>\n",
       "      <th>min</th>\n",
       "      <td>4.000000</td>\n",
       "      <td>0.100000</td>\n",
       "      <td>0.200000</td>\n",
       "      <td>11.000000</td>\n",
       "      <td>0.000000</td>\n",
       "    </tr>\n",
       "    <tr>\n",
       "      <th>25%</th>\n",
       "      <td>23.000000</td>\n",
       "      <td>0.350000</td>\n",
       "      <td>0.690000</td>\n",
       "      <td>55.000000</td>\n",
       "      <td>2.000000</td>\n",
       "    </tr>\n",
       "    <tr>\n",
       "      <th>50%</th>\n",
       "      <td>26.000000</td>\n",
       "      <td>0.440000</td>\n",
       "      <td>0.840000</td>\n",
       "      <td>71.000000</td>\n",
       "      <td>3.000000</td>\n",
       "    </tr>\n",
       "    <tr>\n",
       "      <th>75%</th>\n",
       "      <td>29.000000</td>\n",
       "      <td>0.560000</td>\n",
       "      <td>0.910000</td>\n",
       "      <td>79.000000</td>\n",
       "      <td>5.000000</td>\n",
       "    </tr>\n",
       "    <tr>\n",
       "      <th>max</th>\n",
       "      <td>45.000000</td>\n",
       "      <td>1.000000</td>\n",
       "      <td>1.000000</td>\n",
       "      <td>95.000000</td>\n",
       "      <td>7.000000</td>\n",
       "    </tr>\n",
       "  </tbody>\n",
       "</table>\n",
       "</div>"
      ],
      "text/plain": [
       "                H           S           V           L       group\n",
       "count  613.000000  613.000000  613.000000  625.000000  625.000000\n",
       "mean    25.314845    0.459494    0.779543   65.920000    3.472000\n",
       "std      5.327852    0.154089    0.173955   17.512267    1.976529\n",
       "min      4.000000    0.100000    0.200000   11.000000    0.000000\n",
       "25%     23.000000    0.350000    0.690000   55.000000    2.000000\n",
       "50%     26.000000    0.440000    0.840000   71.000000    3.000000\n",
       "75%     29.000000    0.560000    0.910000   79.000000    5.000000\n",
       "max     45.000000    1.000000    1.000000   95.000000    7.000000"
      ]
     },
     "execution_count": 48,
     "metadata": {},
     "output_type": "execute_result"
    }
   ],
   "source": [
    "df.describe()"
   ]
  },
  {
   "cell_type": "code",
   "execution_count": 49,
   "id": "89f93736",
   "metadata": {},
   "outputs": [
    {
     "data": {
      "image/png": "[encoded data removed]",
      "text/plain": [
       "<Figure size 640x480 with 1 Axes>"
      ]
     },
     "metadata": {},
     "output_type": "display_data"
    }
   ],
   "source": [
    "df['L'].plot(x='L',kind='hist')\n",
    "plt.title('Lightness of Foundation Shades of All Countries')\n",
    "plt.xlabel('Foundation Lightness')\n",
    "plt.show()"
   ]
  },
  {
   "cell_type": "code",
   "execution_count": 50,
   "id": "7b2fc583",
   "metadata": {},
   "outputs": [
    {
     "data": {
      "image/png": "[encoded data removed]",
      "text/plain": [
       "<Figure size 640x480 with 1 Axes>"
      ]
     },
     "metadata": {},
     "output_type": "display_data"
    }
   ],
   "source": [
    "df['group'].plot(x='group',kind='hist')\n",
    "plt.title('Frequency of Countries Represented')\n",
    "plt.xlabel('Countries')\n",
    "plt.show()"
   ]
  },
  {
   "cell_type": "code",
   "execution_count": 51,
   "id": "62d0b244",
   "metadata": {},
   "outputs": [
    {
     "data": {
      "text/html": [
       "<div>\n",
       "<style scoped>\n",
       "    .dataframe tbody tr th:only-of-type {\n",
       "        vertical-align: middle;\n",
       "    }\n",
       "\n",
       "    .dataframe tbody tr th {\n",
       "        vertical-align: top;\n",
       "    }\n",
       "\n",
       "    .dataframe thead th {\n",
       "        text-align: right;\n",
       "    }\n",
       "</style>\n",
       "<table border=\"1\" class=\"dataframe\">\n",
       "  <thead>\n",
       "    <tr style=\"text-align: right;\">\n",
       "      <th></th>\n",
       "      <th>brand</th>\n",
       "      <th>brand_short</th>\n",
       "      <th>product</th>\n",
       "      <th>product_short</th>\n",
       "      <th>hex</th>\n",
       "      <th>H</th>\n",
       "      <th>S</th>\n",
       "      <th>V</th>\n",
       "      <th>L</th>\n",
       "      <th>group</th>\n",
       "    </tr>\n",
       "  </thead>\n",
       "  <tbody>\n",
       "    <tr>\n",
       "      <th>2</th>\n",
       "      <td>Maybelline</td>\n",
       "      <td>mb</td>\n",
       "      <td>Fit Me</td>\n",
       "      <td>fmf</td>\n",
       "      <td>ffe0cd</td>\n",
       "      <td>23.0</td>\n",
       "      <td>0.20</td>\n",
       "      <td>1.00</td>\n",
       "      <td>91</td>\n",
       "      <td>2</td>\n",
       "    </tr>\n",
       "    <tr>\n",
       "      <th>2</th>\n",
       "      <td>Maybelline</td>\n",
       "      <td>mb</td>\n",
       "      <td>Fit Me</td>\n",
       "      <td>fmf</td>\n",
       "      <td>ffe0cd</td>\n",
       "      <td>23.0</td>\n",
       "      <td>0.20</td>\n",
       "      <td>1.00</td>\n",
       "      <td>91</td>\n",
       "      <td>2</td>\n",
       "    </tr>\n",
       "    <tr>\n",
       "      <th>2</th>\n",
       "      <td>Maybelline</td>\n",
       "      <td>mb</td>\n",
       "      <td>Fit Me</td>\n",
       "      <td>fmf</td>\n",
       "      <td>ffe0cd</td>\n",
       "      <td>23.0</td>\n",
       "      <td>0.20</td>\n",
       "      <td>1.00</td>\n",
       "      <td>91</td>\n",
       "      <td>2</td>\n",
       "    </tr>\n",
       "    <tr>\n",
       "      <th>2</th>\n",
       "      <td>Maybelline</td>\n",
       "      <td>mb</td>\n",
       "      <td>Fit Me</td>\n",
       "      <td>fmf</td>\n",
       "      <td>ffe0cd</td>\n",
       "      <td>23.0</td>\n",
       "      <td>0.20</td>\n",
       "      <td>1.00</td>\n",
       "      <td>91</td>\n",
       "      <td>2</td>\n",
       "    </tr>\n",
       "    <tr>\n",
       "      <th>2</th>\n",
       "      <td>Maybelline</td>\n",
       "      <td>mb</td>\n",
       "      <td>Fit Me</td>\n",
       "      <td>fmf</td>\n",
       "      <td>ffe0cd</td>\n",
       "      <td>23.0</td>\n",
       "      <td>0.20</td>\n",
       "      <td>1.00</td>\n",
       "      <td>91</td>\n",
       "      <td>2</td>\n",
       "    </tr>\n",
       "    <tr>\n",
       "      <th>...</th>\n",
       "      <td>...</td>\n",
       "      <td>...</td>\n",
       "      <td>...</td>\n",
       "      <td>...</td>\n",
       "      <td>...</td>\n",
       "      <td>...</td>\n",
       "      <td>...</td>\n",
       "      <td>...</td>\n",
       "      <td>...</td>\n",
       "      <td>...</td>\n",
       "    </tr>\n",
       "    <tr>\n",
       "      <th>7</th>\n",
       "      <td>Maybelline</td>\n",
       "      <td>mb</td>\n",
       "      <td>Fit Me</td>\n",
       "      <td>fmf</td>\n",
       "      <td>e2b597</td>\n",
       "      <td>24.0</td>\n",
       "      <td>0.33</td>\n",
       "      <td>0.89</td>\n",
       "      <td>77</td>\n",
       "      <td>2</td>\n",
       "    </tr>\n",
       "    <tr>\n",
       "      <th>7</th>\n",
       "      <td>Maybelline</td>\n",
       "      <td>mb</td>\n",
       "      <td>Fit Me</td>\n",
       "      <td>fmf</td>\n",
       "      <td>e2b597</td>\n",
       "      <td>24.0</td>\n",
       "      <td>0.33</td>\n",
       "      <td>0.89</td>\n",
       "      <td>77</td>\n",
       "      <td>2</td>\n",
       "    </tr>\n",
       "    <tr>\n",
       "      <th>7</th>\n",
       "      <td>Maybelline</td>\n",
       "      <td>mb</td>\n",
       "      <td>Fit Me</td>\n",
       "      <td>fmf</td>\n",
       "      <td>e2b597</td>\n",
       "      <td>24.0</td>\n",
       "      <td>0.33</td>\n",
       "      <td>0.89</td>\n",
       "      <td>77</td>\n",
       "      <td>2</td>\n",
       "    </tr>\n",
       "    <tr>\n",
       "      <th>7</th>\n",
       "      <td>Maybelline</td>\n",
       "      <td>mb</td>\n",
       "      <td>Fit Me</td>\n",
       "      <td>fmf</td>\n",
       "      <td>e2b597</td>\n",
       "      <td>24.0</td>\n",
       "      <td>0.33</td>\n",
       "      <td>0.89</td>\n",
       "      <td>77</td>\n",
       "      <td>2</td>\n",
       "    </tr>\n",
       "    <tr>\n",
       "      <th>7</th>\n",
       "      <td>Maybelline</td>\n",
       "      <td>mb</td>\n",
       "      <td>Fit Me</td>\n",
       "      <td>fmf</td>\n",
       "      <td>e2b597</td>\n",
       "      <td>24.0</td>\n",
       "      <td>0.33</td>\n",
       "      <td>0.89</td>\n",
       "      <td>77</td>\n",
       "      <td>2</td>\n",
       "    </tr>\n",
       "  </tbody>\n",
       "</table>\n",
       "<p>625 rows × 10 columns</p>\n",
       "</div>"
      ],
      "text/plain": [
       "         brand brand_short product product_short     hex     H     S     V  \\\n",
       "2   Maybelline          mb  Fit Me           fmf  ffe0cd  23.0  0.20  1.00   \n",
       "2   Maybelline          mb  Fit Me           fmf  ffe0cd  23.0  0.20  1.00   \n",
       "2   Maybelline          mb  Fit Me           fmf  ffe0cd  23.0  0.20  1.00   \n",
       "2   Maybelline          mb  Fit Me           fmf  ffe0cd  23.0  0.20  1.00   \n",
       "2   Maybelline          mb  Fit Me           fmf  ffe0cd  23.0  0.20  1.00   \n",
       "..         ...         ...     ...           ...     ...   ...   ...   ...   \n",
       "7   Maybelline          mb  Fit Me           fmf  e2b597  24.0  0.33  0.89   \n",
       "7   Maybelline          mb  Fit Me           fmf  e2b597  24.0  0.33  0.89   \n",
       "7   Maybelline          mb  Fit Me           fmf  e2b597  24.0  0.33  0.89   \n",
       "7   Maybelline          mb  Fit Me           fmf  e2b597  24.0  0.33  0.89   \n",
       "7   Maybelline          mb  Fit Me           fmf  e2b597  24.0  0.33  0.89   \n",
       "\n",
       "     L  group  \n",
       "2   91      2  \n",
       "2   91      2  \n",
       "2   91      2  \n",
       "2   91      2  \n",
       "2   91      2  \n",
       "..  ..    ...  \n",
       "7   77      2  \n",
       "7   77      2  \n",
       "7   77      2  \n",
       "7   77      2  \n",
       "7   77      2  \n",
       "\n",
       "[625 rows x 10 columns]"
      ]
     },
     "execution_count": 51,
     "metadata": {},
     "output_type": "execute_result"
    }
   ],
   "source": [
    "df.loc[df['group'] ]"
   ]
  },
  {
   "cell_type": "code",
   "execution_count": 52,
   "id": "f02b82b5",
   "metadata": {},
   "outputs": [
    {
     "name": "stdout",
     "output_type": "stream",
     "text": [
      "0      2\n",
      "1      2\n",
      "2      2\n",
      "3      2\n",
      "4      2\n",
      "      ..\n",
      "620    7\n",
      "621    7\n",
      "622    7\n",
      "623    7\n",
      "624    7\n",
      "Name: group, Length: 625, dtype: int64\n"
     ]
    }
   ],
   "source": [
    "print(df.group)"
   ]
  },
  {
   "cell_type": "code",
   "execution_count": 56,
   "id": "62eea506",
   "metadata": {},
   "outputs": [
    {
     "data": {
      "text/html": [
       "<div>\n",
       "<style scoped>\n",
       "    .dataframe tbody tr th:only-of-type {\n",
       "        vertical-align: middle;\n",
       "    }\n",
       "\n",
       "    .dataframe tbody tr th {\n",
       "        vertical-align: top;\n",
       "    }\n",
       "\n",
       "    .dataframe thead th {\n",
       "        text-align: right;\n",
       "    }\n",
       "</style>\n",
       "<table border=\"1\" class=\"dataframe\">\n",
       "  <thead>\n",
       "    <tr style=\"text-align: right;\">\n",
       "      <th></th>\n",
       "      <th>brand</th>\n",
       "      <th>brand_short</th>\n",
       "      <th>product</th>\n",
       "      <th>product_short</th>\n",
       "      <th>hex</th>\n",
       "      <th>H</th>\n",
       "      <th>S</th>\n",
       "      <th>V</th>\n",
       "      <th>L</th>\n",
       "      <th>group</th>\n",
       "    </tr>\n",
       "  </thead>\n",
       "  <tbody>\n",
       "    <tr>\n",
       "      <th>0</th>\n",
       "      <td>Maybelline</td>\n",
       "      <td>mb</td>\n",
       "      <td>Fit Me</td>\n",
       "      <td>fmf</td>\n",
       "      <td>f3cfb3</td>\n",
       "      <td>26.0</td>\n",
       "      <td>0.26</td>\n",
       "      <td>0.95</td>\n",
       "      <td>86</td>\n",
       "      <td>2</td>\n",
       "    </tr>\n",
       "    <tr>\n",
       "      <th>1</th>\n",
       "      <td>Maybelline</td>\n",
       "      <td>mb</td>\n",
       "      <td>Fit Me</td>\n",
       "      <td>fmf</td>\n",
       "      <td>ffe3c2</td>\n",
       "      <td>32.0</td>\n",
       "      <td>0.24</td>\n",
       "      <td>1.00</td>\n",
       "      <td>92</td>\n",
       "      <td>2</td>\n",
       "    </tr>\n",
       "    <tr>\n",
       "      <th>2</th>\n",
       "      <td>Maybelline</td>\n",
       "      <td>mb</td>\n",
       "      <td>Fit Me</td>\n",
       "      <td>fmf</td>\n",
       "      <td>ffe0cd</td>\n",
       "      <td>23.0</td>\n",
       "      <td>0.20</td>\n",
       "      <td>1.00</td>\n",
       "      <td>91</td>\n",
       "      <td>2</td>\n",
       "    </tr>\n",
       "    <tr>\n",
       "      <th>3</th>\n",
       "      <td>Maybelline</td>\n",
       "      <td>mb</td>\n",
       "      <td>Fit Me</td>\n",
       "      <td>fmf</td>\n",
       "      <td>ffd3be</td>\n",
       "      <td>19.0</td>\n",
       "      <td>0.25</td>\n",
       "      <td>1.00</td>\n",
       "      <td>88</td>\n",
       "      <td>2</td>\n",
       "    </tr>\n",
       "    <tr>\n",
       "      <th>4</th>\n",
       "      <td>Maybelline</td>\n",
       "      <td>mb</td>\n",
       "      <td>Fit Me</td>\n",
       "      <td>fmf</td>\n",
       "      <td>bd9584</td>\n",
       "      <td>18.0</td>\n",
       "      <td>0.30</td>\n",
       "      <td>0.74</td>\n",
       "      <td>65</td>\n",
       "      <td>2</td>\n",
       "    </tr>\n",
       "    <tr>\n",
       "      <th>...</th>\n",
       "      <td>...</td>\n",
       "      <td>...</td>\n",
       "      <td>...</td>\n",
       "      <td>...</td>\n",
       "      <td>...</td>\n",
       "      <td>...</td>\n",
       "      <td>...</td>\n",
       "      <td>...</td>\n",
       "      <td>...</td>\n",
       "      <td>...</td>\n",
       "    </tr>\n",
       "    <tr>\n",
       "      <th>162</th>\n",
       "      <td>Covergirl + Olay</td>\n",
       "      <td>oc</td>\n",
       "      <td>Simply Ageless</td>\n",
       "      <td>sa</td>\n",
       "      <td>eac7ab</td>\n",
       "      <td>NaN</td>\n",
       "      <td>NaN</td>\n",
       "      <td>NaN</td>\n",
       "      <td>83</td>\n",
       "      <td>2</td>\n",
       "    </tr>\n",
       "    <tr>\n",
       "      <th>163</th>\n",
       "      <td>Covergirl + Olay</td>\n",
       "      <td>oc</td>\n",
       "      <td>Simply Ageless</td>\n",
       "      <td>sa</td>\n",
       "      <td>eabe9e</td>\n",
       "      <td>NaN</td>\n",
       "      <td>NaN</td>\n",
       "      <td>NaN</td>\n",
       "      <td>80</td>\n",
       "      <td>2</td>\n",
       "    </tr>\n",
       "    <tr>\n",
       "      <th>164</th>\n",
       "      <td>Covergirl + Olay</td>\n",
       "      <td>oc</td>\n",
       "      <td>Simply Ageless</td>\n",
       "      <td>sa</td>\n",
       "      <td>e5b39a</td>\n",
       "      <td>NaN</td>\n",
       "      <td>NaN</td>\n",
       "      <td>NaN</td>\n",
       "      <td>77</td>\n",
       "      <td>2</td>\n",
       "    </tr>\n",
       "    <tr>\n",
       "      <th>165</th>\n",
       "      <td>Covergirl + Olay</td>\n",
       "      <td>oc</td>\n",
       "      <td>Simply Ageless</td>\n",
       "      <td>sa</td>\n",
       "      <td>e7b590</td>\n",
       "      <td>NaN</td>\n",
       "      <td>NaN</td>\n",
       "      <td>NaN</td>\n",
       "      <td>78</td>\n",
       "      <td>2</td>\n",
       "    </tr>\n",
       "    <tr>\n",
       "      <th>166</th>\n",
       "      <td>Covergirl + Olay</td>\n",
       "      <td>oc</td>\n",
       "      <td>Simply Ageless</td>\n",
       "      <td>sa</td>\n",
       "      <td>f7dcca</td>\n",
       "      <td>NaN</td>\n",
       "      <td>NaN</td>\n",
       "      <td>NaN</td>\n",
       "      <td>90</td>\n",
       "      <td>2</td>\n",
       "    </tr>\n",
       "  </tbody>\n",
       "</table>\n",
       "<p>167 rows × 10 columns</p>\n",
       "</div>"
      ],
      "text/plain": [
       "                brand brand_short         product product_short     hex     H  \\\n",
       "0          Maybelline          mb          Fit Me           fmf  f3cfb3  26.0   \n",
       "1          Maybelline          mb          Fit Me           fmf  ffe3c2  32.0   \n",
       "2          Maybelline          mb          Fit Me           fmf  ffe0cd  23.0   \n",
       "3          Maybelline          mb          Fit Me           fmf  ffd3be  19.0   \n",
       "4          Maybelline          mb          Fit Me           fmf  bd9584  18.0   \n",
       "..                ...         ...             ...           ...     ...   ...   \n",
       "162  Covergirl + Olay          oc  Simply Ageless            sa  eac7ab   NaN   \n",
       "163  Covergirl + Olay          oc  Simply Ageless            sa  eabe9e   NaN   \n",
       "164  Covergirl + Olay          oc  Simply Ageless            sa  e5b39a   NaN   \n",
       "165  Covergirl + Olay          oc  Simply Ageless            sa  e7b590   NaN   \n",
       "166  Covergirl + Olay          oc  Simply Ageless            sa  f7dcca   NaN   \n",
       "\n",
       "        S     V   L  group  \n",
       "0    0.26  0.95  86      2  \n",
       "1    0.24  1.00  92      2  \n",
       "2    0.20  1.00  91      2  \n",
       "3    0.25  1.00  88      2  \n",
       "4    0.30  0.74  65      2  \n",
       "..    ...   ...  ..    ...  \n",
       "162   NaN   NaN  83      2  \n",
       "163   NaN   NaN  80      2  \n",
       "164   NaN   NaN  77      2  \n",
       "165   NaN   NaN  78      2  \n",
       "166   NaN   NaN  90      2  \n",
       "\n",
       "[167 rows x 10 columns]"
      ]
     },
     "execution_count": 56,
     "metadata": {},
     "output_type": "execute_result"
    }
   ],
   "source": [
    "df.loc[df['group'] == 2]"
   ]
  },
  {
   "cell_type": "code",
   "execution_count": 68,
   "id": "8f7668ef",
   "metadata": {},
   "outputs": [
    {
     "name": "stderr",
     "output_type": "stream",
     "text": [
      "/tmp/ipykernel_67/2520333303.py:1: FutureWarning: The default value of numeric_only in DataFrame.mean is deprecated. In a future version, it will default to False. In addition, specifying 'numeric_only=None' is deprecated. Select only valid columns or specify the value of numeric_only to silence this warning.\n",
      "  df.loc[df ['group'] == 2].mean()\n"
     ]
    },
    {
     "data": {
      "text/plain": [
       "H        25.438710\n",
       "S         0.463419\n",
       "V         0.768194\n",
       "L        65.766467\n",
       "group     2.000000\n",
       "dtype: float64"
      ]
     },
     "execution_count": 68,
     "metadata": {},
     "output_type": "execute_result"
    }
   ],
   "source": [
    "df.loc[df ['group'] == 2].mean()"
   ]
  },
  {
   "cell_type": "code",
   "execution_count": 61,
   "id": "9f0deaef",
   "metadata": {},
   "outputs": [
    {
     "name": "stderr",
     "output_type": "stream",
     "text": [
      "/tmp/ipykernel_67/1076504179.py:1: FutureWarning: The default value of numeric_only in DataFrame.mean is deprecated. In a future version, it will default to False. In addition, specifying 'numeric_only=None' is deprecated. Select only valid columns or specify the value of numeric_only to silence this warning.\n",
      "  df.loc[df ['group'] == 0].mean()\n"
     ]
    },
    {
     "data": {
      "text/plain": [
       "H        25.70000\n",
       "S         0.47925\n",
       "V         0.78325\n",
       "L        65.62500\n",
       "group     0.00000\n",
       "dtype: float64"
      ]
     },
     "execution_count": 61,
     "metadata": {},
     "output_type": "execute_result"
    }
   ],
   "source": [
    "df.loc[df ['group'] == 0].mean()"
   ]
  },
  {
   "cell_type": "code",
   "execution_count": 62,
   "id": "e21e5a56",
   "metadata": {},
   "outputs": [
    {
     "name": "stderr",
     "output_type": "stream",
     "text": [
      "/tmp/ipykernel_67/2431416835.py:1: FutureWarning: The default value of numeric_only in DataFrame.mean is deprecated. In a future version, it will default to False. In addition, specifying 'numeric_only=None' is deprecated. Select only valid columns or specify the value of numeric_only to silence this warning.\n",
      "  df.loc[df ['group'] == 1].mean()\n"
     ]
    },
    {
     "data": {
      "text/plain": [
       "H        20.17500\n",
       "S         0.35075\n",
       "V         0.81500\n",
       "L        70.02500\n",
       "group     1.00000\n",
       "dtype: float64"
      ]
     },
     "execution_count": 62,
     "metadata": {},
     "output_type": "execute_result"
    }
   ],
   "source": [
    "df.loc[df ['group'] == 1].mean()"
   ]
  },
  {
   "cell_type": "code",
   "execution_count": 82,
   "id": "05f03d9c",
   "metadata": {},
   "outputs": [
    {
     "name": "stderr",
     "output_type": "stream",
     "text": [
      "/tmp/ipykernel_67/110568729.py:1: FutureWarning: The default value of numeric_only in DataFrame.mean is deprecated. In a future version, it will default to False. In addition, specifying 'numeric_only=None' is deprecated. Select only valid columns or specify the value of numeric_only to silence this warning.\n",
      "  df.loc[df ['group'] == 5].mean()\n"
     ]
    },
    {
     "data": {
      "text/plain": [
       "H        22.0000\n",
       "S         0.5568\n",
       "V         0.6740\n",
       "L        53.3000\n",
       "group     5.0000\n",
       "dtype: float64"
      ]
     },
     "execution_count": 82,
     "metadata": {},
     "output_type": "execute_result"
    }
   ],
   "source": [
    "df.loc[df ['group'] == 5].mean()"
   ]
  },
  {
   "cell_type": "code",
   "execution_count": 83,
   "id": "a02ffd05",
   "metadata": {},
   "outputs": [
    {
     "name": "stderr",
     "output_type": "stream",
     "text": [
      "/tmp/ipykernel_67/3343044967.py:1: FutureWarning: The default value of numeric_only in DataFrame.mean is deprecated. In a future version, it will default to False. In addition, specifying 'numeric_only=None' is deprecated. Select only valid columns or specify the value of numeric_only to silence this warning.\n",
      "  df.loc[df ['group'] == 6].mean()\n"
     ]
    },
    {
     "data": {
      "text/plain": [
       "H        27.581081\n",
       "S         0.413919\n",
       "V         0.901216\n",
       "L        76.959459\n",
       "group     6.000000\n",
       "dtype: float64"
      ]
     },
     "execution_count": 83,
     "metadata": {},
     "output_type": "execute_result"
    }
   ],
   "source": [
    "df.loc[df ['group'] == 6].mean()"
   ]
  },
  {
   "cell_type": "code",
   "execution_count": 84,
   "id": "1367c7dd",
   "metadata": {},
   "outputs": [
    {
     "name": "stderr",
     "output_type": "stream",
     "text": [
      "/tmp/ipykernel_67/1881251887.py:1: FutureWarning: The default value of numeric_only in DataFrame.mean is deprecated. In a future version, it will default to False. In addition, specifying 'numeric_only=None' is deprecated. Select only valid columns or specify the value of numeric_only to silence this warning.\n",
      "  df.loc[df ['group'] == 7].mean()\n"
     ]
    },
    {
     "data": {
      "text/plain": [
       "H        25.526316\n",
       "S         0.393509\n",
       "V         0.865088\n",
       "L        74.228070\n",
       "group     7.000000\n",
       "dtype: float64"
      ]
     },
     "execution_count": 84,
     "metadata": {},
     "output_type": "execute_result"
    }
   ],
   "source": [
    "df.loc[df ['group'] == 7].mean()"
   ]
  },
  {
   "cell_type": "code",
   "execution_count": 93,
   "id": "9fb53a2d",
   "metadata": {},
   "outputs": [
    {
     "data": {
      "image/png": "[encoded data removed]",
      "text/plain": [
       "<Figure size 1000x500 with 1 Axes>"
      ]
     },
     "metadata": {},
     "output_type": "display_data"
    }
   ],
   "source": [
    "\n",
    "data = {'Fenty Beauty': 65.62500, 'Makeup Forever':70.02500, 'US Best-Sellers':65.766467,\n",
    "\t\t}\n",
    "countries = list(data.keys())\n",
    "lightness = list(data.values())\n",
    "\n",
    "fig = plt.figure(figsize = (10, 5))\n",
    "\n",
    "plt.bar(countries, lightness, color ='maroon',\n",
    "\t\twidth = 0.2)\n",
    "\n",
    "plt.xlabel(\"Western Brands\")\n",
    "plt.ylabel(\"Average of Foundation Lightness\")\n",
    "plt.title(\"Average of Foundation Lightness of Western Brands\")\n",
    "plt.show()"
   ]
  },
  {
   "cell_type": "code",
   "execution_count": 86,
   "id": "195cf97f",
   "metadata": {},
   "outputs": [
    {
     "data": {
      "image/png": "[encoded data removed]",
      "text/plain": [
       "<Figure size 1000x500 with 1 Axes>"
      ]
     },
     "metadata": {},
     "output_type": "display_data"
    }
   ],
   "source": [
    "data = {'Nigeria': 53.3000, 'Japan': 76.959459, 'India': 74.228070,\n",
    "\t\t}\n",
    "countries = list(data.keys())\n",
    "lightness = list(data.values())\n",
    "\n",
    "fig = plt.figure(figsize = (10, 5))\n",
    "\n",
    "\n",
    "plt.bar(countries, lightness, color ='orange',\n",
    "\t\twidth = 0.2)\n",
    "\n",
    "plt.xlabel(\"Eastern Brands\")\n",
    "plt.ylabel(\"Average of Foundation Lightness\")\n",
    "plt.title(\"Average of Foundation Lightness of Eastern Brands\")\n",
    "plt.show()"
   ]
  },
  {
   "cell_type": "code",
   "execution_count": null,
   "id": "c219e1e9",
   "metadata": {},
   "outputs": [],
   "source": []
  }
 ],
 "metadata": {
  "kernelspec": {
   "display_name": "Python 3 (ipykernel)",
   "language": "python",
   "name": "python3"
  },
  "language_info": {
   "codemirror_mode": {
    "name": "ipython",
    "version": 3
   },
   "file_extension": ".py",
   "mimetype": "text/x-python",
   "name": "python",
   "nbconvert_exporter": "python",
   "pygments_lexer": "ipython3",
   "version": "3.10.8"
  }
 },
 "nbformat": 4,
 "nbformat_minor": 5
}
